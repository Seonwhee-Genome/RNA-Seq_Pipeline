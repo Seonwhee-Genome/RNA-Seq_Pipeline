{
 "cells": [
  {
   "cell_type": "code",
   "execution_count": null,
   "metadata": {
    "collapsed": true
   },
   "outputs": [],
   "source": [
    "import os, re, sys\n",
    "import subprocess as sp\n",
    "from glob import glob"
   ]
  },
  {
   "cell_type": "markdown",
   "metadata": {},
   "source": [
    "## 1 Fundamental settings of the pipeline"
   ]
  },
  {
   "cell_type": "code",
   "execution_count": null,
   "metadata": {
    "collapsed": true
   },
   "outputs": [],
   "source": [
    "class dress_room(object):\n",
    "    def __init__(self):\n",
    "        self.REF = '/home/seonwhee/Bioinformatics/Pipeline/Reference/'\n",
    "        self.hg38 = self.REF + 'ucsc_hg38/hg38'\n",
    "        self.FASTQ_LOCATION = '/home/seonwhee/Bioinformatics/IRCR/EQL2/RNA_20170802'\n",
    "        self.EQL8 = '/home/seonwhee/Bioinformatics/IRCR/EQL8'\n",
    "        self.BAM_LOCATION = '%s/IRCR_BT16_929_T01_RSq/' %(self.EQL8)\n",
    "        self.EXPR = '%sOutput/'%(self.BAM_LOCATION)\n",
    "        \n",
    "    def command_exec(self, cmd):\n",
    "        print(' '.join(cmd))\n",
    "        sp.call(' '.join(cmd), shell=True)\n",
    "        \n",
    "        "
   ]
  },
  {
   "cell_type": "markdown",
   "metadata": {},
   "source": [
    "## 2 Preliminary build of Bowtie index file\n",
    "#### Since it is an input file of Tophat, index file named hg38.bt2l should be made beforehand."
   ]
  },
  {
   "cell_type": "code",
   "execution_count": null,
   "metadata": {
    "collapsed": true
   },
   "outputs": [],
   "source": [
    "class wearing_Bowtie(dress_room, object):\n",
    "            \n",
    "    def building_indice(self):\n",
    "        print(self.hg38)\n",
    "        cmd = \"bowtie2-build\"\n",
    "        arg = \" --large-index %s.fa hg38\" %(self.hg38)\n",
    "        try:\n",
    "            retcode = sp.call(cmd + arg, shell=True)\n",
    "            if retcode < 0:\n",
    "                print(\"Child was terminated by signal\", -retcode, file=sys.stderr)\n",
    "            else:\n",
    "                print(\"Child returned\", retcode, file=sys.stderr)\n",
    "        except OSError as e:\n",
    "            print(\"Execution failed:\", e, file=sys.stderr)"
   ]
  },
  {
   "cell_type": "markdown",
   "metadata": {},
   "source": [
    "## 3 Mapping against the reference(hg38)"
   ]
  },
  {
   "cell_type": "code",
   "execution_count": null,
   "metadata": {
    "collapsed": true
   },
   "outputs": [],
   "source": [
    "class wearing_Tophat(dress_room, object):    \n",
    "        \n",
    "    def making_alignment(self):\n",
    "        inputFile1 = '%s/IRCR_BT16_929_T01.RNA.R1.fq.gz'%(self.FASTQ_LOCATION)\n",
    "        inputFile2 = '%s/IRCR_BT16_929_T01.RNA.R2.fq.gz'%(self.FASTQ_LOCATION)\n",
    "        CmdArgs = [\"tophat2\", \"-o %s\" %(self.BAM_LOCATION), \"-p 8\", self.hg38, inputFile1, inputFile2]        \n",
    "        self.command_exec(CmdArgs)           \n",
    "    \n",
    "    def check_outputFiles(self):\n",
    "        import pysam\n",
    "        BamFile = pysam.AlignmentFile(self.BAM_LOCATION+\"accepted_hits.bam\", 'rb')\n",
    "        iter = BamFile.pileup('seq1', 10, 20)\n",
    "        for x in iter:\n",
    "            print (str(x))"
   ]
  },
  {
   "cell_type": "markdown",
   "metadata": {},
   "source": [
    "## 4 Quantification of RNA expression"
   ]
  },
  {
   "cell_type": "code",
   "execution_count": null,
   "metadata": {
    "collapsed": true
   },
   "outputs": [],
   "source": [
    "class clipping_Cufflinks(dress_room, object):\n",
    "    def __init__(self):\n",
    "        super(clipping_Cufflinks, self).__init__()        \n",
    "    \n",
    "    def expression_profile(self):\n",
    "        CmdArgs = [\"cufflinks\", \"-G %s.gtf\"%(self.hg38), \"-o %s\" %(self.EXPR), \"%saccepted_hits.bam\"%(self.BAM_LOCATION)]\n",
    "        self.command_exec(CmdArgs)"
   ]
  },
  {
   "cell_type": "code",
   "execution_count": null,
   "metadata": {},
   "outputs": [],
   "source": [
    "class Differential_expression(dress_room, object):\n",
    "    def __init__(self):\n",
    "        super(clipping_Cufflinks, self).__init__()\n",
    "        self.assembly_file = \"%s/assembly_list.txt\" %(self.EQL8)\n",
    "        self.merge = self.EQL8 + '/Merging_results'\n",
    "        self.labels = []\n",
    "        \n",
    "    def merging_transcripts(self):        \n",
    "        assembly_list = glob(\"%s/Output/transcripts.gtf\"%(self.EXPR)) \n",
    "        i = 1\n",
    "        with open(self.assembly_file, 'w') as f:\n",
    "            for GTF_path in assembly_list:\n",
    "                f.write(\"%s\\n\" %(GTF_path))\n",
    "                if i == len(assembly_list):\n",
    "                    self.labels.append(GTF_path.split('/')[-2])\n",
    "                else:\n",
    "                    self.labels.append(GTF_path.split('/')[-2]+\",\")\n",
    "                i = i+1\n",
    "        \n",
    "        with open(\"%s/label.txt\"%(self.merge), 'w') as f:\n",
    "            label_as_str = ''.join(self.labels)\n",
    "            f.write(label_as_str)\n",
    "        CmdArgs = [\"cuffmerge\", \"-g %s.gtf\"%(self.hg38), \"-s %s.fa\"%(self.hg38), \"-o %s\"%(self.merge), self.assembly_file]\n",
    "        self.command_exec(CmdArgs)\n",
    "        \n",
    "    def differential_expression(self):\n",
    "        hits_list = glob(\"%s/*/accepted_hits.bam\"%(self.BAM_LOCATION))\n",
    "        with open(\"%s/label.txt\"%(self.merge), 'r') as f:\n",
    "            diff_label = f.read()\n",
    "        CmdArgs = [\"cuffdiff\", \"-q\", \"-u %s/merged.gtf\"%(self.merge), \"-N\", \"-o %s\"%(self.merge), \"-b %s.fa\"%(self.hg38), \"-L\", diff_label]\n",
    "        CmdArgs = CmdArgs + hits_list        \n",
    "        self.command_exec(CmdArgs)\n",
    "    \n",
    "    def wearing_cummerbund(self):\n",
    "        "
   ]
  },
  {
   "cell_type": "markdown",
   "metadata": {},
   "source": [
    "## 5 Pipeline execution"
   ]
  },
  {
   "cell_type": "code",
   "execution_count": null,
   "metadata": {
    "scrolled": true
   },
   "outputs": [],
   "source": [
    "ones = wearing_Tophat()\n",
    "ones.making_alignment()"
   ]
  },
  {
   "cell_type": "code",
   "execution_count": null,
   "metadata": {},
   "outputs": [],
   "source": [
    "ones.check_outputFiles()"
   ]
  },
  {
   "cell_type": "code",
   "execution_count": null,
   "metadata": {},
   "outputs": [],
   "source": [
    "tuxedo = clipping_Cufflinks()\n",
    "tuxedo.expression_profile()"
   ]
  },
  {
   "cell_type": "code",
   "execution_count": null,
   "metadata": {},
   "outputs": [],
   "source": [
    "diff = Differential_expression()\n",
    "diff.merging_transcripts()\n",
    "diff.differential_expression()"
   ]
  }
 ],
 "metadata": {
  "anaconda-cloud": {},
  "kernelspec": {
   "display_name": "Python [conda root]",
   "language": "python",
   "name": "conda-root-py"
  },
  "language_info": {
   "codemirror_mode": {
    "name": "ipython",
    "version": 3
   },
   "file_extension": ".py",
   "mimetype": "text/x-python",
   "name": "python",
   "nbconvert_exporter": "python",
   "pygments_lexer": "ipython3",
   "version": "3.5.3"
  }
 },
 "nbformat": 4,
 "nbformat_minor": 2
}
